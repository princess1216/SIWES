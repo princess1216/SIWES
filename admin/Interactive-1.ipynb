{
 "cells": [
  {
   "cell_type": "markdown",
   "metadata": {
    "isInteractiveWindowMessageCell": true
   },
   "source": [
    "Connected to Python 3.12.2"
   ]
  },
  {
   "cell_type": "code",
   "execution_count": 1,
   "metadata": {},
   "outputs": [
    {
     "name": "stdout",
     "output_type": "stream",
     "text": [
      " * Serving Flask app 'mainScanner2'\n",
      " * Debug mode: on\n"
     ]
    },
    {
     "name": "stderr",
     "output_type": "stream",
     "text": [
      "WARNING: This is a development server. Do not use it in a production deployment. Use a production WSGI server instead.\n",
      " * Running on http://127.0.0.1:5000\n",
      "Press CTRL+C to quit\n",
      " * Restarting with watchdog (windowsapi)\n"
     ]
    },
    {
     "ename": "SystemExit",
     "evalue": "1",
     "output_type": "error",
     "traceback": [
      "An exception has occurred, use %tb to see the full traceback.\n",
      "\u001b[1;31mSystemExit\u001b[0m\u001b[1;31m:\u001b[0m 1\n"
     ]
    },
    {
     "name": "stderr",
     "output_type": "stream",
     "text": [
      "C:\\Users\\USER\\AppData\\Roaming\\Python\\Python312\\site-packages\\IPython\\core\\interactiveshell.py:3585: UserWarning: To exit: use 'exit', 'quit', or Ctrl-D.\n",
      "  warn(\"To exit: use 'exit', 'quit', or Ctrl-D.\", stacklevel=1)\n"
     ]
    }
   ],
   "source": [
    "#!/usr/bin/env python\n",
    "import socket\n",
    "import subprocess\n",
    "import sys\n",
    "from datetime import datetime\n",
    "import json\n",
    "import os\n",
    "import threading\n",
    "import logging\n",
    "from multi.scanner_thread import split_processing\n",
    "from flask import Flask, render_template, request, redirect, url_for\n",
    "\n",
    "app = Flask(__name__)\n",
    "\n",
    "@app.route('/')\n",
    "def homepage():\n",
    "    return render_template('index.html')\n",
    "\n",
    "# Clear the screen (if needed)\n",
    "# subprocess.call('clear', shell=True)\n",
    "\n",
    "@app.route('/input', methods=[\"POST\"])\n",
    "def process_input():\n",
    "    if request.method == \"POST\":\n",
    "        remoteServer = request.form[\"host\"]\n",
    "        try:\n",
    "            remoteServerIP = socket.gethostbyname(remoteServer)\n",
    "        except socket.gaierror:\n",
    "            return \"Error: Hostname could not be resolved.\", 400\n",
    "\n",
    "        range_low = int(request.form[\"range_low\"])\n",
    "        range_high = int(request.form[\"range_high\"])\n",
    "    else:\n",
    "        return \"Error: Invalid Request\", 400\n",
    "\n",
    "    # Print a nice banner with information on which host we are about to scan\n",
    "    print(\"-\" * 60)\n",
    "    print(\"Please wait, scanning remote host....\", remoteServerIP)\n",
    "    print(\"-\" * 60)\n",
    "\n",
    "    # Resolves the relative path to absolute path\n",
    "    def get_absolute_path(relative_path):\n",
    "        dir = os.path.dirname(os.path.abspath(__file__))\n",
    "        split_path = relative_path.split(\"/\")\n",
    "        absolute_path = os.path.join(dir, *split_path)\n",
    "        return absolute_path\n",
    "\n",
    "    # Check what time the scan started\n",
    "    t1 = datetime.now()\n",
    "\n",
    "    # Getting port range values from config.json\n",
    "    try:\n",
    "        with open(get_absolute_path('../config.json')) as config_file:\n",
    "            config = json.load(config_file)\n",
    "            print(get_absolute_path('../config.json'))\n",
    "        # defining number of threads running concurrently\n",
    "        CONST_NUM_THREADS = int(config['thread']['count'])\n",
    "\n",
    "    except FileNotFoundError:\n",
    "        print(\"config.json file not found\")\n",
    "        return \"Error: config.json file not found.\", 500\n",
    "    except ValueError:\n",
    "        print(\"Kindly check the JSON file for appropriateness of range\")\n",
    "        return \"Error: Invalid range in config.json file.\", 500\n",
    "\n",
    "    ports = list(range(range_low, range_high))\n",
    "    portnum = []\n",
    "\n",
    "    def scan(ports, range_low, range_high):\n",
    "        try:\n",
    "            for port in range(range_low, range_high):\n",
    "                sock = socket.socket(socket.AF_INET, socket.SOCK_STREAM)\n",
    "                sock.settimeout(1)\n",
    "                result = sock.connect_ex((remoteServerIP, port))\n",
    "                if result == 0:\n",
    "                    print(\"Port {}: Open\".format(port))\n",
    "                    portnum.append(\"Port \" + str(port))\n",
    "                sock.close()\n",
    "\n",
    "        except KeyboardInterrupt:\n",
    "            print(\"You pressed Ctrl+C\")\n",
    "            sys.exit()\n",
    "\n",
    "        except socket.gaierror:\n",
    "            print('Hostname could not be resolved. Exiting')\n",
    "            sys.exit()\n",
    "\n",
    "        except socket.error:\n",
    "            print(\"Couldn't connect to server\")\n",
    "            sys.exit()\n",
    "\n",
    "    # calling function from scanner_thread.py for multithreading\n",
    "    split_processing(ports, CONST_NUM_THREADS, scan, range_low, range_high)\n",
    "\n",
    "    # Checking the time again\n",
    "    t2 = datetime.now()\n",
    "\n",
    "    # Calculates the difference of time, to see how long it took to run the script\n",
    "    total = t2 - t1\n",
    "\n",
    "    # Printing the information to screen\n",
    "    print('Scanning Completed in: ', total)\n",
    "    return render_template('index.html', portnum=portnum, host=remoteServerIP, range_low=range_low, range_high=range_high, total=total)\n",
    "\n",
    "if __name__ == '__main__':\n",
    "    app.run(debug=True)"
   ]
  },
  {
   "cell_type": "markdown",
   "metadata": {
    "isInteractiveWindowMessageCell": true
   },
   "source": [
    "No kernel connected"
   ]
  }
 ],
 "metadata": {
  "kernelspec": {
   "display_name": "Python 3",
   "language": "python",
   "name": "python3"
  },
  "language_info": {
   "name": "python",
   "version": "3.12.2"
  }
 },
 "nbformat": 4,
 "nbformat_minor": 2
}
